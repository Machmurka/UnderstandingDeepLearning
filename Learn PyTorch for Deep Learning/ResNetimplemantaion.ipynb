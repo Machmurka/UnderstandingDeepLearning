{
 "cells": [
  {
   "cell_type": "code",
   "execution_count": 1,
   "metadata": {},
   "outputs": [],
   "source": [
    "#imports\n",
    "import torch \n",
    "import torch.nn as nn"
   ]
  },
  {
   "cell_type": "code",
   "execution_count": null,
   "metadata": {},
   "outputs": [],
   "source": [
    "class block(nn.Module):\n",
    "    def __init__(self,in_chanels:int,out_channels:int,stride:int,identity_downsample=None): \n",
    "        # do wyjaśnienia później\n",
    "        super(block,self).__init__()\n",
    "        self.expansion=4\n",
    "        self.conv1=nn.Conv2d(in_chanels,out_channels,kernel_size=1,stride=1,padding=0)\n",
    "        self.bn1=nn.BatchNorm2d(out_channels)\n",
    "        self.conv2=nn.Conv2d(out_channels,out_channels,kernel_size=3,stride=stride,padding=1)\n",
    "        self.bn2=nn.BatchNorm2d(out_channels)\n",
    "        self.conv3=nn.Conv2d(out_channels,out_channels*self.expansion,kernel_size=1,stride=1,padding=0)\n",
    "        self.bn3=nn.BatchNorm2d(out_channels*self.expansion)\n",
    "        self.relu=nn.ReLU()\n",
    "\n",
    "        # If we nedd to change shape of identity X\n",
    "        self.identity_downsample=identity_downsample\n",
    "\n",
    "    def forword(self,x):\n",
    "        identity=x\n",
    "\n",
    "\n",
    "        x=self.conv1(x)\n",
    "        x=self.bn1(x)\n",
    "        x=self.relu(x)\n",
    "        x=self.conv2(x)\n",
    "        x=self.bn2(x)\n",
    "        x=self.relu(x)\n",
    "        x=self.conv3(x)\n",
    "        x=self.bn3(x)\n",
    "\n",
    "        #adding the identity back \n",
    "        if self.identity_downsample is not None:\n",
    "            identity=self.identity_downsample(identity)\n",
    "        \n",
    "        x+=identity\n",
    "        x= self.relu(x)\n",
    "\n",
    "        return x\n",
    "    \n"
   ]
  }
 ],
 "metadata": {
  "kernelspec": {
   "display_name": "Python 3",
   "language": "python",
   "name": "python3"
  },
  "language_info": {
   "codemirror_mode": {
    "name": "ipython",
    "version": 3
   },
   "file_extension": ".py",
   "mimetype": "text/x-python",
   "name": "python",
   "nbconvert_exporter": "python",
   "pygments_lexer": "ipython3",
   "version": "3.11.4"
  }
 },
 "nbformat": 4,
 "nbformat_minor": 2
}
