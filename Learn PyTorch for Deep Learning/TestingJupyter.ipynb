{
 "cells": [
  {
   "cell_type": "code",
   "execution_count": 1,
   "metadata": {},
   "outputs": [
    {
     "name": "stderr",
     "output_type": "stream",
     "text": [
      "c:\\Users\\Jakub Machura\\AppData\\Local\\Programs\\Python\\Python311\\Lib\\site-packages\\tqdm\\auto.py:21: TqdmWarning: IProgress not found. Please update jupyter and ipywidgets. See https://ipywidgets.readthedocs.io/en/stable/user_install.html\n",
      "  from .autonotebook import tqdm as notebook_tqdm\n"
     ]
    }
   ],
   "source": [
    "import requests\n",
    "import zipfile\n",
    "from pathlib import Path\n",
    "import random\n",
    "from PIL import Image\n",
    "import numpy as np\n",
    "import matplotlib.pylab as plt\n",
    "import os\n",
    "from typing import Tuple, Dict, List\n",
    "from tqdm.auto import tqdm\n",
    "from timeit import default_timer as timer \n",
    "\n",
    "\n",
    "from torch.utils.data import  DataLoader\n",
    "from torchvision import datasets, transforms\n",
    "import torch \n",
    "import torch.nn as nn\n",
    "from torch.utils.data import Dataset\n",
    "from torchinfo import summary"
   ]
  },
  {
   "cell_type": "code",
   "execution_count": 2,
   "metadata": {},
   "outputs": [],
   "source": [
    "class ImageFolderCustom(Dataset):\n",
    "    \n",
    "    # 2. Initialize with a targ_dir and transform (optional) parameter\n",
    "    def __init__(self, targ_dir: str, transform=None) -> None:\n",
    "        \n",
    "        # 3. Create class attributes\n",
    "        # Get all image paths\n",
    "        self.paths = list(Path(targ_dir).glob(\"*/*.jpg\")) # note: you'd have to update this if you've got .png's or .jpeg's\n",
    "        # Setup transforms\n",
    "        self.transform = transform\n",
    "        # Create classes and class_to_idx attributes\n",
    "        # print(self.paths)\n",
    "        self.classes, self.class_to_idx = self.find_classes(targ_dir)\n",
    "\n",
    "    # 4. Make function to load images\n",
    "    def load_image(self, index: int) -> Image.Image:\n",
    "        \"Opens an image via a path and returns it.\"\n",
    "        image_path = self.paths[index]\n",
    "        return Image.open(image_path) \n",
    "    \n",
    "    # 5. Overwrite the __len__() method (optional but recommended for subclasses of torch.utils.data.Dataset)\n",
    "    def __len__(self) -> int:\n",
    "        \"Returns the total number of samples.\"\n",
    "        return len(self.paths)\n",
    "    \n",
    "    # 6. Overwrite the __getitem__() method (required for subclasses of torch.utils.data.Dataset)\n",
    "    def __getitem__(self, index: int) -> Tuple[torch.Tensor, int]:\n",
    "        \"Returns one sample of data, data and label (X, y).\"\n",
    "        img = self.load_image(index)\n",
    "        class_name  = self.paths[index].parent.name # expects path in data_folder/class_name/image.jpeg\n",
    "        class_idx = self.class_to_idx[class_name]\n",
    "\n",
    "        # Transform if necessary\n",
    "        if self.transform:\n",
    "            return self.transform(img), class_idx # return data, label (X, y)\n",
    "        else:\n",
    "            return img, class_idx # return data, label (X, y)\n",
    "        \n",
    "    def find_classes(self,directory:str)->Tuple[list[str],dict[str,int]]:\n",
    "        classes=sorted(entry.name for entry in os.scandir(directory) if entry.is_dir())\n",
    "\n",
    "        if not classes:\n",
    "            raise FileNotFoundError(f\"Couldn't find any classes in {directory}.\")\n",
    "        \n",
    "        class_to_idx={cls_name: i for i, cls_name in enumerate(classes)}\n",
    "        \n",
    "        print(classes,class_to_idx)\n",
    "        return classes,class_to_idx\n"
   ]
  },
  {
   "cell_type": "code",
   "execution_count": 3,
   "metadata": {},
   "outputs": [],
   "source": [
    "class CustomDataTest():\n",
    "    def __init__(self) -> None:\n",
    "\n",
    "        self.train_dir = \"C:\\\\Users\\\\Jakub Machura\\\\source\\\\repos\\\\UnderstandingDeepLearning\\\\data\\\\pizza_steak_sushi\\\\train\"\n",
    "        self.test_dir = \"C:\\\\Users\\\\Jakub Machura\\\\source\\\\repos\\\\UnderstandingDeepLearning\\\\data\\\\pizza_steak_sushi\\\\test\"\n",
    "        \"\"\"\n",
    "            temp placement for of transform\n",
    "        \"\"\"\n",
    "        self.train_transform=transforms.Compose([\n",
    "            transforms.Resize(size=(64,64)),\n",
    "            transforms.TrivialAugmentWide(num_magnitude_bins=31),\n",
    "            transforms.ToTensor()\n",
    "        ])\n",
    "    \n",
    "        self.test_transforms = transforms.Compose([\n",
    "        transforms.Resize((64, 64)),\n",
    "        transforms.ToTensor()\n",
    "        ])\n",
    "    \n",
    "        self.train_data_custom =ImageFolderCustom(self.train_dir,transform=self.train_transform)\n",
    "        self.test_data_custom=ImageFolderCustom(self.test_dir,transform=self.test_transforms)\n",
    "    \n",
    "        \"\"\"temp place for testing data\"\"\"    \n",
    "        # Check for equality amongst our custom Dataset and ImageFolder Dataset\n",
    "        # print((len(self.train_data_custom) == len(data.train_data)) & (len(self.test_data_custom) == len(data.test_data)))\n",
    "        # print(self.train_data_custom.classes == data.train_data.classes)\n",
    "        # print(self.train_data_custom.class_to_idx == data.train_data.class_to_idx)\n",
    "\n",
    "        self.IntoDataLoaders()\n",
    "\n",
    "    def IntoDataLoaders(self):\n",
    "        BATCH_SIZE=32\n",
    "        # NUM_WORKERS = os.cpu_count()\n",
    "        NUM_WORKERS = 1\n",
    "\n",
    "        # print(f\"number of workers avalible {NUM_WORKERS}\")\n",
    "        self.train_dataloader= DataLoader(dataset=self.train_data_custom, # use custom created train Dataset\n",
    "                                     batch_size=BATCH_SIZE, # how many samples per batch?\n",
    "                                    #  num_workers=NUM_WORKERS, # how many subprocesses to use for data loading? (higher = more)\n",
    "                                     shuffle=True) # shuffle the data?\n",
    "\n",
    "        self.test_dataloader = DataLoader(dataset=self.test_data_custom, # use custom created test Dataset\n",
    "                                    batch_size=BATCH_SIZE, \n",
    "                                    # num_workers=NUM_WORKERS, \n",
    "                                    shuffle=False) # don't usually need to shuffle testing data\n",
    "\n",
    "        img,label=next(iter(self.test_dataloader))\n",
    "        # print(f\"shape of custome dataloader img {img.shape}\")"
   ]
  },
  {
   "cell_type": "markdown",
   "metadata": {},
   "source": [
    "TinnyVGG with no regularization method applied"
   ]
  },
  {
   "cell_type": "code",
   "execution_count": 4,
   "metadata": {},
   "outputs": [],
   "source": [
    "def train_step(model,loss_fn,optimizer,data):\n",
    "        model.train()\n",
    "\n",
    "        train_loss,train_acc=0, 0\n",
    "\n",
    "        for batch, (X,y) in enumerate(data.train_dataloader):\n",
    "            y_logits=model(X)\n",
    "\n",
    "            loss=loss_fn(y_logits,y)\n",
    "            train_loss+=loss.item()\n",
    "\n",
    "            optimizer.zero_grad()\n",
    "\n",
    "            loss.backward()\n",
    "\n",
    "            optimizer.step()\n",
    "\n",
    "            y_pred_class = y_logits.argmax(dim=1)\n",
    "            train_acc += (y_pred_class == y).sum().item()/len(data.train_dataloader)\n",
    "\n",
    "        train_loss=train_loss/len(data.train_dataloader)\n",
    "        train_acc=train_loss/len(data.train_dataloader)\n",
    "        return train_loss,train_acc\n",
    "    \n",
    "def test_step(model,loss_fn,data:CustomDataTest):\n",
    "    \n",
    "    model.eval()\n",
    "    test_loss,test_acc=0,0\n",
    "    with torch.inference_mode():\n",
    "        for batch, (X,y) in enumerate(data.test_dataloader):\n",
    "\n",
    "            y_logits=model(X)\n",
    "\n",
    "            loss=loss_fn(y_logits,y)\n",
    "            test_loss+=loss.item()\n",
    "\n",
    "            test_pred_labels = y_logits.argmax(dim=1)\n",
    "            test_acc += ((test_pred_labels == y).sum().item()/len(test_pred_labels))\n",
    "\n",
    "    test_loss=test_loss/len(data.test_dataloader)\n",
    "    test_acc=test_acc/len(data.test_dataloader)\n",
    "    return test_loss, test_acc\n",
    "\n",
    "def Totrain(model,data:CustomDataTest,epochs:int,optimizer,loss_fn:torch.nn.Module):\n",
    "        \n",
    "    results = {\"train_loss\": [],\n",
    "        \"train_acc\": [],\n",
    "        \"test_loss\": [],\n",
    "        \"test_acc\": []\n",
    "    }\n",
    "    \n",
    "\n",
    "    for epoch in tqdm(range(epochs)):\n",
    "        train_loss,train_acc=train_step(model,loss_fn,optimizer,data)\n",
    "        test_loss,test_acc=test_step(model,loss_fn,data)\n",
    "                # 4. Print out what's happening\n",
    "        \n",
    "        print(\n",
    "            f\"Epoch: {epoch+1} | \"\n",
    "            f\"train_loss: {train_loss:.4f} | \"\n",
    "            f\"train_acc: {train_acc:.4f} | \"\n",
    "            f\"test_loss: {test_loss:.4f} | \"\n",
    "            f\"test_acc: {test_acc:.4f}\"\n",
    "        )\n",
    "\n",
    "        # 5. Update results dictionary\n",
    "        results[\"train_loss\"].append(train_loss)\n",
    "        results[\"train_acc\"].append(train_acc)\n",
    "        results[\"test_loss\"].append(test_loss)\n",
    "        results[\"test_acc\"].append(test_acc)\n",
    "    \n",
    "    return results"
   ]
  },
  {
   "cell_type": "code",
   "execution_count": 5,
   "metadata": {},
   "outputs": [],
   "source": [
    "class TinnyVGG(nn.Module):\n",
    "    def __init__(self,in_shape:int,out_shape:int,hidden_units:int) -> None:\n",
    "        super().__init__()\n",
    "\n",
    "        self.conv_block1=nn.Sequential(\n",
    "            nn.Conv2d(in_channels=in_shape,\n",
    "                      out_channels=hidden_units,\n",
    "                      kernel_size=3,\n",
    "                      stride=1,\n",
    "                      padding=1),\n",
    "            nn.ReLU(),\n",
    "            nn.Conv2d(\n",
    "                in_channels=hidden_units,\n",
    "                out_channels=hidden_units,\n",
    "                kernel_size=3,\n",
    "                stride=1,\n",
    "                padding=1\n",
    "            ),\n",
    "            nn.ReLU(),\n",
    "            nn.MaxPool2d(kernel_size=2,stride=2)\n",
    "        )\n",
    "        self.conv_block_2 = nn.Sequential(\n",
    "            nn.Conv2d(hidden_units, hidden_units, kernel_size=3, padding=1),\n",
    "            nn.ReLU(),\n",
    "            nn.Conv2d(hidden_units, hidden_units, kernel_size=3, padding=1),\n",
    "            nn.ReLU(),\n",
    "            nn.MaxPool2d(2)\n",
    "        )\n",
    "        self.classifier=nn.Sequential(\n",
    "            nn.Flatten(),\n",
    "            nn.Linear(in_features=hidden_units*16*16,out_features=out_shape)\n",
    "        )\n",
    "        print(self.state_dict)\n",
    "    def forward(self,x):\n",
    "        return(self.classifier(self.conv_block_2(self.conv_block1(x))))\n",
    "    \n",
    "    def ShapeCheck(self,data:CustomDataTest):\n",
    "        img_batch,label_batch=next(iter(data.test_dataloader))\n",
    "\n",
    "        img_single,label_single=img_batch[0].unsqueeze(dim=0), label_batch[0]\n",
    "        \n",
    "        # print(f\"single img shape {img_single.shape}\")\n",
    "\n",
    "        self.eval()\n",
    "        with torch.inference_mode():\n",
    "            y=self(img_single)\n",
    "\n",
    "        # print(f\"shape of output raw y\\n{y.shape}\")\n",
    "        # print(f\"output of pred label \\n{torch.argmax(torch.softmax(y,dim=1),dim=1)}\")\n",
    "        # print(f\"actual label \\n{label_single}\")\n",
    "    \n",
    "    # def train_step(self,loss_fn,optimizer,data):\n",
    "    #     self.train()\n",
    "\n",
    "    #     train_loss,train_acc=0, 0\n",
    "\n",
    "    #     for batch, (X,y) in enumerate(data.train_dataloader):\n",
    "    #         y_logits=self(X)\n",
    "\n",
    "    #         loss=loss_fn(y_logits,y)\n",
    "    #         train_loss+=loss.item()\n",
    "\n",
    "    #         optimizer.zero_grad()\n",
    "\n",
    "    #         loss.backward()\n",
    "\n",
    "    #         optimizer.step()\n",
    "\n",
    "    #         y_pred_class = y_logits.argmax(dim=1)\n",
    "    #         train_acc += (y_pred_class == y).sum().item()/len(y_pred_class)\n",
    "\n",
    "    #     train_loss=train_loss/len(data.train_dataloader)\n",
    "    #     train_acc=train_loss/len(data.train_dataloader)\n",
    "    #     return train_loss,train_acc\n",
    "    \n",
    "    # def test_step(self,loss_fn,data:CustomDataTest):\n",
    "        \n",
    "    #     self.eval()\n",
    "\n",
    "    #     test_loss,test_acc=0,0\n",
    "\n",
    "    #     with torch.inference_mode():\n",
    "    #         for batch, (X,y) in enumerate(data.test_dataloader):\n",
    "    #             y_logits=self(X)\n",
    "\n",
    "    #             loss=loss_fn(y_logits,y)\n",
    "    #             test_loss+=loss.item()\n",
    "\n",
    "    #             test_pred_labels = y_logits.argmax(dim=1)\n",
    "    #             test_acc += ((test_pred_labels == y).sum().item()/len(test_pred_labels))\n",
    "\n",
    "\n",
    "    #     test_loss=test_loss/len(data.test_dataloader)\n",
    "    #     test_acc=test_acc/len(data.test_dataloader)\n",
    "    #     return test_loss, test_acc\n",
    "\n",
    "    # def Totrain(self,data:CustomDataTest,epochs:int,optimizer,loss_fn:torch.nn.Module):\n",
    "        \n",
    "    #     self.results = {\"train_loss\": [],\n",
    "    #     \"train_acc\": [],\n",
    "    #     \"test_loss\": [],\n",
    "    #     \"test_acc\": []\n",
    "    # }\n",
    "    \n",
    "\n",
    "    #     for epoch in tqdm(range(epochs)):\n",
    "    #         train_loss,train_acc=self.train_step(loss_fn,optimizer,data)\n",
    "\n",
    "    #         test_loss,test_acc=self.test_step(loss_fn,data)\n",
    "\n",
    "    #                 # 4. Print out what's happening\n",
    "    #         print(\n",
    "    #             f\"Epoch: {epoch+1} | \"\n",
    "    #             f\"train_loss: {train_loss:.4f} | \"\n",
    "    #             f\"train_acc: {train_acc:.4f} | \"\n",
    "    #             f\"test_loss: {test_loss:.4f} | \"\n",
    "    #             f\"test_acc: {test_acc:.4f}\"\n",
    "    #         )\n",
    "    \n",
    "    #         # 5. Update results dictionary\n",
    "    #         self.results[\"train_loss\"].append(train_loss)\n",
    "    #         self.results[\"train_acc\"].append(train_acc)\n",
    "    #         self.results[\"test_loss\"].append(test_loss)\n",
    "    #         self.results[\"test_acc\"].append(test_acc)\n",
    "        \n",
    "    #     return self.results"
   ]
  },
  {
   "cell_type": "code",
   "execution_count": 6,
   "metadata": {},
   "outputs": [],
   "source": [
    "def plot_loss_curves(results: Dict[str, List[float]]):\n",
    "    \"\"\"Plots training curves of a results dictionary.\n",
    "\n",
    "    Args:\n",
    "        results (dict): dictionary containing list of values, e.g.\n",
    "            {\"train_loss\": [...],\n",
    "             \"train_acc\": [...],\n",
    "             \"test_loss\": [...],\n",
    "             \"test_acc\": [...]}\n",
    "    \"\"\"\n",
    "    \n",
    "    # Get the loss values of the results dictionary (training and test)\n",
    "    loss = results['train_loss']\n",
    "    test_loss = results['test_loss']\n",
    "\n",
    "    # Get the accuracy values of the results dictionary (training and test)\n",
    "    accuracy = results['train_acc']\n",
    "    test_accuracy = results['test_acc']\n",
    "\n",
    "    # Figure out how many epochs there were\n",
    "    epochs = range(len(results['train_loss']))\n",
    "\n",
    "    # Setup a plot \n",
    "    plt.figure(figsize=(15, 7))\n",
    "\n",
    "    # Plot loss\n",
    "    plt.subplot(1, 2, 1)\n",
    "    plt.plot(epochs, loss, label='train_loss')\n",
    "    plt.plot(epochs, test_loss, label='test_loss')\n",
    "    plt.title('Loss')\n",
    "    plt.xlabel('Epochs')\n",
    "    plt.legend()\n",
    "    # plt.show()\n",
    "\n",
    "    # Plot accuracy\n",
    "    plt.subplot(1, 2, 2)\n",
    "    plt.plot(epochs, accuracy, label='train_accuracy')\n",
    "    plt.plot(epochs, test_accuracy, label='test_accuracy')\n",
    "    plt.title('Accuracy')\n",
    "    plt.xlabel('Epochs')\n",
    "    plt.legend()\n",
    "    plt.show()"
   ]
  },
  {
   "cell_type": "code",
   "execution_count": 7,
   "metadata": {},
   "outputs": [
    {
     "name": "stdout",
     "output_type": "stream",
     "text": [
      "['pizza', 'steak', 'sushi'] {'pizza': 0, 'steak': 1, 'sushi': 2}\n",
      "['pizza', 'steak', 'sushi'] {'pizza': 0, 'steak': 1, 'sushi': 2}\n",
      "<bound method Module.state_dict of TinnyVGG(\n",
      "  (conv_block1): Sequential(\n",
      "    (0): Conv2d(3, 5, kernel_size=(3, 3), stride=(1, 1), padding=(1, 1))\n",
      "    (1): ReLU()\n",
      "    (2): Conv2d(5, 5, kernel_size=(3, 3), stride=(1, 1), padding=(1, 1))\n",
      "    (3): ReLU()\n",
      "    (4): MaxPool2d(kernel_size=2, stride=2, padding=0, dilation=1, ceil_mode=False)\n",
      "  )\n",
      "  (conv_block_2): Sequential(\n",
      "    (0): Conv2d(5, 5, kernel_size=(3, 3), stride=(1, 1), padding=(1, 1))\n",
      "    (1): ReLU()\n",
      "    (2): Conv2d(5, 5, kernel_size=(3, 3), stride=(1, 1), padding=(1, 1))\n",
      "    (3): ReLU()\n",
      "    (4): MaxPool2d(kernel_size=2, stride=2, padding=0, dilation=1, ceil_mode=False)\n",
      "  )\n",
      "  (classifier): Sequential(\n",
      "    (0): Flatten(start_dim=1, end_dim=-1)\n",
      "    (1): Linear(in_features=1280, out_features=3, bias=True)\n",
      "  )\n",
      ")>\n"
     ]
    },
    {
     "name": "stderr",
     "output_type": "stream",
     "text": [
      "  7%|▋         | 1/15 [00:00<00:13,  1.05it/s]"
     ]
    },
    {
     "name": "stdout",
     "output_type": "stream",
     "text": [
      "Epoch: 1 | train_loss: 1.1181 | train_acc: 0.1398 | test_loss: 1.1105 | test_acc: 0.2604\n"
     ]
    },
    {
     "name": "stderr",
     "output_type": "stream",
     "text": [
      " 13%|█▎        | 2/15 [00:01<00:10,  1.24it/s]"
     ]
    },
    {
     "name": "stdout",
     "output_type": "stream",
     "text": [
      "Epoch: 2 | train_loss: 1.1119 | train_acc: 0.1390 | test_loss: 1.1678 | test_acc: 0.1979\n"
     ]
    },
    {
     "name": "stderr",
     "output_type": "stream",
     "text": [
      " 20%|██        | 3/15 [00:02<00:09,  1.33it/s]"
     ]
    },
    {
     "name": "stdout",
     "output_type": "stream",
     "text": [
      "Epoch: 3 | train_loss: 1.0983 | train_acc: 0.1373 | test_loss: 1.1628 | test_acc: 0.2917\n"
     ]
    },
    {
     "name": "stderr",
     "output_type": "stream",
     "text": [
      " 27%|██▋       | 4/15 [00:03<00:07,  1.38it/s]"
     ]
    },
    {
     "name": "stdout",
     "output_type": "stream",
     "text": [
      "Epoch: 4 | train_loss: 1.0906 | train_acc: 0.1363 | test_loss: 1.1554 | test_acc: 0.1979\n"
     ]
    },
    {
     "name": "stderr",
     "output_type": "stream",
     "text": [
      " 33%|███▎      | 5/15 [00:03<00:07,  1.37it/s]"
     ]
    },
    {
     "name": "stdout",
     "output_type": "stream",
     "text": [
      "Epoch: 5 | train_loss: 1.1072 | train_acc: 0.1384 | test_loss: 1.1565 | test_acc: 0.1979\n"
     ]
    },
    {
     "name": "stderr",
     "output_type": "stream",
     "text": [
      " 40%|████      | 6/15 [00:04<00:06,  1.39it/s]"
     ]
    },
    {
     "name": "stdout",
     "output_type": "stream",
     "text": [
      "Epoch: 6 | train_loss: 1.1193 | train_acc: 0.1399 | test_loss: 1.1365 | test_acc: 0.2917\n"
     ]
    },
    {
     "name": "stderr",
     "output_type": "stream",
     "text": [
      " 47%|████▋     | 7/15 [00:05<00:05,  1.42it/s]"
     ]
    },
    {
     "name": "stdout",
     "output_type": "stream",
     "text": [
      "Epoch: 7 | train_loss: 1.1043 | train_acc: 0.1380 | test_loss: 1.0954 | test_acc: 0.2604\n"
     ]
    },
    {
     "name": "stderr",
     "output_type": "stream",
     "text": [
      " 53%|█████▎    | 8/15 [00:05<00:04,  1.41it/s]"
     ]
    },
    {
     "name": "stdout",
     "output_type": "stream",
     "text": [
      "Epoch: 8 | train_loss: 1.0975 | train_acc: 0.1372 | test_loss: 1.0979 | test_acc: 0.2083\n"
     ]
    },
    {
     "name": "stderr",
     "output_type": "stream",
     "text": [
      " 60%|██████    | 9/15 [00:06<00:04,  1.39it/s]"
     ]
    },
    {
     "name": "stdout",
     "output_type": "stream",
     "text": [
      "Epoch: 9 | train_loss: 1.0865 | train_acc: 0.1358 | test_loss: 1.1186 | test_acc: 0.1979\n"
     ]
    },
    {
     "name": "stderr",
     "output_type": "stream",
     "text": [
      " 67%|██████▋   | 10/15 [00:07<00:03,  1.38it/s]"
     ]
    },
    {
     "name": "stdout",
     "output_type": "stream",
     "text": [
      "Epoch: 10 | train_loss: 1.1106 | train_acc: 0.1388 | test_loss: 1.1455 | test_acc: 0.1979\n"
     ]
    },
    {
     "name": "stderr",
     "output_type": "stream",
     "text": [
      " 73%|███████▎  | 11/15 [00:08<00:02,  1.37it/s]"
     ]
    },
    {
     "name": "stdout",
     "output_type": "stream",
     "text": [
      "Epoch: 11 | train_loss: 1.0948 | train_acc: 0.1369 | test_loss: 1.1448 | test_acc: 0.1979\n"
     ]
    },
    {
     "name": "stderr",
     "output_type": "stream",
     "text": [
      " 80%|████████  | 12/15 [00:08<00:02,  1.37it/s]"
     ]
    },
    {
     "name": "stdout",
     "output_type": "stream",
     "text": [
      "Epoch: 12 | train_loss: 1.0913 | train_acc: 0.1364 | test_loss: 1.1433 | test_acc: 0.2917\n"
     ]
    },
    {
     "name": "stderr",
     "output_type": "stream",
     "text": [
      " 87%|████████▋ | 13/15 [00:09<00:01,  1.39it/s]"
     ]
    },
    {
     "name": "stdout",
     "output_type": "stream",
     "text": [
      "Epoch: 13 | train_loss: 1.0894 | train_acc: 0.1362 | test_loss: 1.1429 | test_acc: 0.3125\n"
     ]
    },
    {
     "name": "stderr",
     "output_type": "stream",
     "text": [
      " 93%|█████████▎| 14/15 [00:10<00:00,  1.40it/s]"
     ]
    },
    {
     "name": "stdout",
     "output_type": "stream",
     "text": [
      "Epoch: 14 | train_loss: 1.0900 | train_acc: 0.1362 | test_loss: 1.1441 | test_acc: 0.3125\n"
     ]
    },
    {
     "name": "stderr",
     "output_type": "stream",
     "text": [
      "100%|██████████| 15/15 [00:10<00:00,  1.37it/s]"
     ]
    },
    {
     "name": "stdout",
     "output_type": "stream",
     "text": [
      "Epoch: 15 | train_loss: 1.0687 | train_acc: 0.1336 | test_loss: 1.1404 | test_acc: 0.2917\n",
      "Total training time: 10.922 seconds\n"
     ]
    },
    {
     "name": "stderr",
     "output_type": "stream",
     "text": [
      "\n"
     ]
    },
    {
     "data": {
      "image/png": "[encoded data removed]",
      "text/plain": [
       "<Figure size 1500x700 with 2 Axes>"
      ]
     },
     "metadata": {},
     "output_type": "display_data"
    }
   ],
   "source": [
    "\n",
    "data1=CustomDataTest()\n",
    "model0=TinnyVGG(3,len(data1.train_data_custom.classes),5)\n",
    "\n",
    "model0_optimizer=torch.optim.Adam(params=model0.parameters(),lr=0.001)\n",
    "model0_loss_fn=nn.CrossEntropyLoss()\n",
    "\n",
    "start_time=timer()\n",
    "model0_results=Totrain(model0,data=data1,epochs=15,optimizer=model0_optimizer,loss_fn=model0_loss_fn)\n",
    "\n",
    "end_time=timer()\n",
    "print(f\"Total training time: {end_time-start_time:.3f} seconds\")\n",
    "plot_loss_curves(model0_results)"
   ]
  },
  {
   "cell_type": "markdown",
   "metadata": {},
   "source": [
    "Model with "
   ]
  },
  {
   "cell_type": "code",
   "execution_count": 8,
   "metadata": {},
   "outputs": [],
   "source": [
    "class TinnyVGGNorm2D(nn.Module):\n",
    "    def __init__(self,in_shape:int,out_shape:int,hidden_units:int) -> None:\n",
    "        super().__init__()\n",
    "\n",
    "        self.conv_block1=nn.Sequential(\n",
    "            nn.Conv2d(in_channels=in_shape,\n",
    "                      out_channels=hidden_units,\n",
    "                      kernel_size=3,\n",
    "                      stride=1,\n",
    "                      padding=1),\n",
    "            nn.InstanceNorm2d(num_features=hidden_units,eps=1e-5,momentum=0.1,affine=True),\n",
    "            nn.ReLU(),\n",
    "            nn.Conv2d(\n",
    "                in_channels=hidden_units,\n",
    "                out_channels=hidden_units,\n",
    "                kernel_size=3,\n",
    "                stride=1,\n",
    "                padding=1\n",
    "            ),\n",
    "            nn.InstanceNorm2d(num_features=hidden_units,eps=1e-5,momentum=0.1,affine=True),\n",
    "            nn.ReLU(),\n",
    "            nn.MaxPool2d(kernel_size=2,stride=2)\n",
    "        )\n",
    "        self.classifier=nn.Sequential(\n",
    "            nn.Flatten(),\n",
    "            nn.Linear(in_features=hidden_units*32*32,out_features=out_shape)\n",
    "        )\n",
    "        print(self.state_dict)\n",
    "    def forward(self,x):\n",
    "        return(self.classifier(self.conv_block1(x)))\n",
    "    \n"
   ]
  },
  {
   "cell_type": "code",
   "execution_count": 9,
   "metadata": {},
   "outputs": [
    {
     "name": "stdout",
     "output_type": "stream",
     "text": [
      "<bound method Module.state_dict of TinnyVGGNorm2D(\n",
      "  (conv_block1): Sequential(\n",
      "    (0): Conv2d(3, 5, kernel_size=(3, 3), stride=(1, 1), padding=(1, 1))\n",
      "    (1): InstanceNorm2d(5, eps=1e-05, momentum=0.1, affine=True, track_running_stats=False)\n",
      "    (2): ReLU()\n",
      "    (3): Conv2d(5, 5, kernel_size=(3, 3), stride=(1, 1), padding=(1, 1))\n",
      "    (4): InstanceNorm2d(5, eps=1e-05, momentum=0.1, affine=True, track_running_stats=False)\n",
      "    (5): ReLU()\n",
      "    (6): MaxPool2d(kernel_size=2, stride=2, padding=0, dilation=1, ceil_mode=False)\n",
      "  )\n",
      "  (classifier): Sequential(\n",
      "    (0): Flatten(start_dim=1, end_dim=-1)\n",
      "    (1): Linear(in_features=5120, out_features=3, bias=True)\n",
      "  )\n",
      ")>\n"
     ]
    },
    {
     "name": "stderr",
     "output_type": "stream",
     "text": [
      "  2%|▏         | 1/50 [00:00<00:35,  1.39it/s]"
     ]
    },
    {
     "name": "stdout",
     "output_type": "stream",
     "text": [
      "Epoch: 1 | train_loss: 2.0056 | train_acc: 0.2507 | test_loss: 1.2428 | test_acc: 0.2917\n"
     ]
    },
    {
     "name": "stderr",
     "output_type": "stream",
     "text": [
      "  4%|▍         | 2/50 [00:01<00:32,  1.48it/s]"
     ]
    },
    {
     "name": "stdout",
     "output_type": "stream",
     "text": [
      "Epoch: 2 | train_loss: 1.4548 | train_acc: 0.1819 | test_loss: 1.5454 | test_acc: 0.2907\n"
     ]
    },
    {
     "name": "stderr",
     "output_type": "stream",
     "text": [
      "  6%|▌         | 3/50 [00:02<00:31,  1.48it/s]"
     ]
    },
    {
     "name": "stdout",
     "output_type": "stream",
     "text": [
      "Epoch: 3 | train_loss: 0.9975 | train_acc: 0.1247 | test_loss: 1.1519 | test_acc: 0.3835\n"
     ]
    },
    {
     "name": "stderr",
     "output_type": "stream",
     "text": [
      "  8%|▊         | 4/50 [00:02<00:31,  1.48it/s]"
     ]
    },
    {
     "name": "stdout",
     "output_type": "stream",
     "text": [
      "Epoch: 4 | train_loss: 0.9508 | train_acc: 0.1188 | test_loss: 1.4855 | test_acc: 0.3409\n"
     ]
    },
    {
     "name": "stderr",
     "output_type": "stream",
     "text": [
      " 10%|█         | 5/50 [00:03<00:30,  1.50it/s]"
     ]
    },
    {
     "name": "stdout",
     "output_type": "stream",
     "text": [
      "Epoch: 5 | train_loss: 1.0950 | train_acc: 0.1369 | test_loss: 1.0949 | test_acc: 0.4432\n"
     ]
    },
    {
     "name": "stderr",
     "output_type": "stream",
     "text": [
      " 12%|█▏        | 6/50 [00:04<00:29,  1.50it/s]"
     ]
    },
    {
     "name": "stdout",
     "output_type": "stream",
     "text": [
      "Epoch: 6 | train_loss: 0.8503 | train_acc: 0.1063 | test_loss: 1.4308 | test_acc: 0.3949\n"
     ]
    },
    {
     "name": "stderr",
     "output_type": "stream",
     "text": [
      " 14%|█▍        | 7/50 [00:04<00:28,  1.48it/s]"
     ]
    },
    {
     "name": "stdout",
     "output_type": "stream",
     "text": [
      "Epoch: 7 | train_loss: 0.9132 | train_acc: 0.1141 | test_loss: 1.2348 | test_acc: 0.4356\n"
     ]
    },
    {
     "name": "stderr",
     "output_type": "stream",
     "text": [
      " 16%|█▌        | 8/50 [00:05<00:27,  1.50it/s]"
     ]
    },
    {
     "name": "stdout",
     "output_type": "stream",
     "text": [
      "Epoch: 8 | train_loss: 0.8561 | train_acc: 0.1070 | test_loss: 1.2934 | test_acc: 0.4631\n"
     ]
    },
    {
     "name": "stderr",
     "output_type": "stream",
     "text": [
      " 18%|█▊        | 9/50 [00:06<00:27,  1.50it/s]"
     ]
    },
    {
     "name": "stdout",
     "output_type": "stream",
     "text": [
      "Epoch: 9 | train_loss: 0.8558 | train_acc: 0.1070 | test_loss: 1.7498 | test_acc: 0.3532\n"
     ]
    },
    {
     "name": "stderr",
     "output_type": "stream",
     "text": [
      " 20%|██        | 10/50 [00:06<00:26,  1.50it/s]"
     ]
    },
    {
     "name": "stdout",
     "output_type": "stream",
     "text": [
      "Epoch: 10 | train_loss: 0.8020 | train_acc: 0.1003 | test_loss: 0.9881 | test_acc: 0.5559\n"
     ]
    },
    {
     "name": "stderr",
     "output_type": "stream",
     "text": [
      " 22%|██▏       | 11/50 [00:07<00:25,  1.50it/s]"
     ]
    },
    {
     "name": "stdout",
     "output_type": "stream",
     "text": [
      "Epoch: 11 | train_loss: 0.7839 | train_acc: 0.0980 | test_loss: 1.4549 | test_acc: 0.3324\n"
     ]
    },
    {
     "name": "stderr",
     "output_type": "stream",
     "text": [
      " 24%|██▍       | 12/50 [00:08<00:25,  1.50it/s]"
     ]
    },
    {
     "name": "stdout",
     "output_type": "stream",
     "text": [
      "Epoch: 12 | train_loss: 0.7135 | train_acc: 0.0892 | test_loss: 1.4292 | test_acc: 0.3324\n"
     ]
    },
    {
     "name": "stderr",
     "output_type": "stream",
     "text": [
      " 26%|██▌       | 13/50 [00:08<00:24,  1.50it/s]"
     ]
    },
    {
     "name": "stdout",
     "output_type": "stream",
     "text": [
      "Epoch: 13 | train_loss: 0.6408 | train_acc: 0.0801 | test_loss: 1.2701 | test_acc: 0.4441\n"
     ]
    },
    {
     "name": "stderr",
     "output_type": "stream",
     "text": [
      " 28%|██▊       | 14/50 [00:09<00:23,  1.51it/s]"
     ]
    },
    {
     "name": "stdout",
     "output_type": "stream",
     "text": [
      "Epoch: 14 | train_loss: 1.0149 | train_acc: 0.1269 | test_loss: 1.3687 | test_acc: 0.3949\n"
     ]
    },
    {
     "name": "stderr",
     "output_type": "stream",
     "text": [
      " 30%|███       | 15/50 [00:10<00:23,  1.51it/s]"
     ]
    },
    {
     "name": "stdout",
     "output_type": "stream",
     "text": [
      "Epoch: 15 | train_loss: 0.6668 | train_acc: 0.0834 | test_loss: 1.0506 | test_acc: 0.4640\n"
     ]
    },
    {
     "name": "stderr",
     "output_type": "stream",
     "text": [
      " 32%|███▏      | 16/50 [00:10<00:22,  1.52it/s]"
     ]
    },
    {
     "name": "stdout",
     "output_type": "stream",
     "text": [
      "Epoch: 16 | train_loss: 0.8828 | train_acc: 0.1103 | test_loss: 1.7710 | test_acc: 0.3845\n"
     ]
    },
    {
     "name": "stderr",
     "output_type": "stream",
     "text": [
      " 34%|███▍      | 17/50 [00:11<00:22,  1.50it/s]"
     ]
    },
    {
     "name": "stdout",
     "output_type": "stream",
     "text": [
      "Epoch: 17 | train_loss: 0.7402 | train_acc: 0.0925 | test_loss: 1.1040 | test_acc: 0.5142\n"
     ]
    },
    {
     "name": "stderr",
     "output_type": "stream",
     "text": [
      " 36%|███▌      | 18/50 [00:12<00:21,  1.51it/s]"
     ]
    },
    {
     "name": "stdout",
     "output_type": "stream",
     "text": [
      "Epoch: 18 | train_loss: 0.7058 | train_acc: 0.0882 | test_loss: 1.5909 | test_acc: 0.3741\n"
     ]
    },
    {
     "name": "stderr",
     "output_type": "stream",
     "text": [
      " 38%|███▊      | 19/50 [00:12<00:20,  1.53it/s]"
     ]
    },
    {
     "name": "stdout",
     "output_type": "stream",
     "text": [
      "Epoch: 19 | train_loss: 0.7933 | train_acc: 0.0992 | test_loss: 1.0806 | test_acc: 0.5152\n"
     ]
    },
    {
     "name": "stderr",
     "output_type": "stream",
     "text": [
      " 40%|████      | 20/50 [00:13<00:19,  1.53it/s]"
     ]
    },
    {
     "name": "stdout",
     "output_type": "stream",
     "text": [
      "Epoch: 20 | train_loss: 0.6930 | train_acc: 0.0866 | test_loss: 1.4675 | test_acc: 0.4138\n"
     ]
    },
    {
     "name": "stderr",
     "output_type": "stream",
     "text": [
      " 42%|████▏     | 21/50 [00:13<00:18,  1.54it/s]"
     ]
    },
    {
     "name": "stdout",
     "output_type": "stream",
     "text": [
      "Epoch: 21 | train_loss: 0.9855 | train_acc: 0.1232 | test_loss: 1.4179 | test_acc: 0.3627\n"
     ]
    },
    {
     "name": "stderr",
     "output_type": "stream",
     "text": [
      " 44%|████▍     | 22/50 [00:14<00:18,  1.55it/s]"
     ]
    },
    {
     "name": "stdout",
     "output_type": "stream",
     "text": [
      "Epoch: 22 | train_loss: 0.8866 | train_acc: 0.1108 | test_loss: 1.4178 | test_acc: 0.3324\n"
     ]
    },
    {
     "name": "stderr",
     "output_type": "stream",
     "text": [
      " 46%|████▌     | 23/50 [00:15<00:17,  1.56it/s]"
     ]
    },
    {
     "name": "stdout",
     "output_type": "stream",
     "text": [
      "Epoch: 23 | train_loss: 0.6833 | train_acc: 0.0854 | test_loss: 1.1237 | test_acc: 0.4328\n"
     ]
    },
    {
     "name": "stderr",
     "output_type": "stream",
     "text": [
      " 48%|████▊     | 24/50 [00:15<00:16,  1.56it/s]"
     ]
    },
    {
     "name": "stdout",
     "output_type": "stream",
     "text": [
      "Epoch: 24 | train_loss: 1.1284 | train_acc: 0.1410 | test_loss: 1.8093 | test_acc: 0.3229\n"
     ]
    },
    {
     "name": "stderr",
     "output_type": "stream",
     "text": [
      " 50%|█████     | 25/50 [00:16<00:16,  1.55it/s]"
     ]
    },
    {
     "name": "stdout",
     "output_type": "stream",
     "text": [
      "Epoch: 25 | train_loss: 0.9926 | train_acc: 0.1241 | test_loss: 1.1473 | test_acc: 0.4432\n"
     ]
    },
    {
     "name": "stderr",
     "output_type": "stream",
     "text": [
      " 52%|█████▏    | 26/50 [00:17<00:15,  1.54it/s]"
     ]
    },
    {
     "name": "stdout",
     "output_type": "stream",
     "text": [
      "Epoch: 26 | train_loss: 0.9593 | train_acc: 0.1199 | test_loss: 1.3005 | test_acc: 0.3636\n"
     ]
    },
    {
     "name": "stderr",
     "output_type": "stream",
     "text": [
      " 54%|█████▍    | 27/50 [00:17<00:14,  1.55it/s]"
     ]
    },
    {
     "name": "stdout",
     "output_type": "stream",
     "text": [
      "Epoch: 27 | train_loss: 0.7855 | train_acc: 0.0982 | test_loss: 1.2427 | test_acc: 0.5256\n"
     ]
    },
    {
     "name": "stderr",
     "output_type": "stream",
     "text": [
      " 56%|█████▌    | 28/50 [00:18<00:14,  1.55it/s]"
     ]
    },
    {
     "name": "stdout",
     "output_type": "stream",
     "text": [
      "Epoch: 28 | train_loss: 0.8099 | train_acc: 0.1012 | test_loss: 1.3890 | test_acc: 0.4138\n"
     ]
    },
    {
     "name": "stderr",
     "output_type": "stream",
     "text": [
      " 58%|█████▊    | 29/50 [00:19<00:13,  1.55it/s]"
     ]
    },
    {
     "name": "stdout",
     "output_type": "stream",
     "text": [
      "Epoch: 29 | train_loss: 0.5943 | train_acc: 0.0743 | test_loss: 1.3862 | test_acc: 0.4545\n"
     ]
    },
    {
     "name": "stderr",
     "output_type": "stream",
     "text": [
      " 60%|██████    | 30/50 [00:19<00:12,  1.54it/s]"
     ]
    },
    {
     "name": "stdout",
     "output_type": "stream",
     "text": [
      "Epoch: 30 | train_loss: 0.5842 | train_acc: 0.0730 | test_loss: 1.2490 | test_acc: 0.4242\n"
     ]
    },
    {
     "name": "stderr",
     "output_type": "stream",
     "text": [
      " 62%|██████▏   | 31/50 [00:20<00:12,  1.55it/s]"
     ]
    },
    {
     "name": "stdout",
     "output_type": "stream",
     "text": [
      "Epoch: 31 | train_loss: 0.4411 | train_acc: 0.0551 | test_loss: 1.0992 | test_acc: 0.5161\n"
     ]
    },
    {
     "name": "stderr",
     "output_type": "stream",
     "text": [
      " 64%|██████▍   | 32/50 [00:21<00:11,  1.55it/s]"
     ]
    },
    {
     "name": "stdout",
     "output_type": "stream",
     "text": [
      "Epoch: 32 | train_loss: 0.4423 | train_acc: 0.0553 | test_loss: 1.2314 | test_acc: 0.4138\n"
     ]
    },
    {
     "name": "stderr",
     "output_type": "stream",
     "text": [
      " 66%|██████▌   | 33/50 [00:21<00:10,  1.55it/s]"
     ]
    },
    {
     "name": "stdout",
     "output_type": "stream",
     "text": [
      "Epoch: 33 | train_loss: 0.4150 | train_acc: 0.0519 | test_loss: 1.0953 | test_acc: 0.5360\n"
     ]
    },
    {
     "name": "stderr",
     "output_type": "stream",
     "text": [
      " 68%|██████▊   | 34/50 [00:22<00:10,  1.56it/s]"
     ]
    },
    {
     "name": "stdout",
     "output_type": "stream",
     "text": [
      "Epoch: 34 | train_loss: 0.8605 | train_acc: 0.1076 | test_loss: 1.3413 | test_acc: 0.3627\n"
     ]
    },
    {
     "name": "stderr",
     "output_type": "stream",
     "text": [
      " 70%|███████   | 35/50 [00:22<00:09,  1.57it/s]"
     ]
    },
    {
     "name": "stdout",
     "output_type": "stream",
     "text": [
      "Epoch: 35 | train_loss: 0.6554 | train_acc: 0.0819 | test_loss: 1.1623 | test_acc: 0.5152\n"
     ]
    },
    {
     "name": "stderr",
     "output_type": "stream",
     "text": [
      " 72%|███████▏  | 36/50 [00:23<00:08,  1.57it/s]"
     ]
    },
    {
     "name": "stdout",
     "output_type": "stream",
     "text": [
      "Epoch: 36 | train_loss: 0.5809 | train_acc: 0.0726 | test_loss: 1.2005 | test_acc: 0.4754\n"
     ]
    },
    {
     "name": "stderr",
     "output_type": "stream",
     "text": [
      " 74%|███████▍  | 37/50 [00:24<00:08,  1.58it/s]"
     ]
    },
    {
     "name": "stdout",
     "output_type": "stream",
     "text": [
      "Epoch: 37 | train_loss: 0.5546 | train_acc: 0.0693 | test_loss: 0.9975 | test_acc: 0.5871\n"
     ]
    },
    {
     "name": "stderr",
     "output_type": "stream",
     "text": [
      " 76%|███████▌  | 38/50 [00:24<00:07,  1.57it/s]"
     ]
    },
    {
     "name": "stdout",
     "output_type": "stream",
     "text": [
      "Epoch: 38 | train_loss: 0.5757 | train_acc: 0.0720 | test_loss: 1.4545 | test_acc: 0.3939\n"
     ]
    },
    {
     "name": "stderr",
     "output_type": "stream",
     "text": [
      " 78%|███████▊  | 39/50 [00:25<00:07,  1.57it/s]"
     ]
    },
    {
     "name": "stdout",
     "output_type": "stream",
     "text": [
      "Epoch: 39 | train_loss: 0.5832 | train_acc: 0.0729 | test_loss: 1.2111 | test_acc: 0.4034\n"
     ]
    },
    {
     "name": "stderr",
     "output_type": "stream",
     "text": [
      " 80%|████████  | 40/50 [00:26<00:06,  1.56it/s]"
     ]
    },
    {
     "name": "stdout",
     "output_type": "stream",
     "text": [
      "Epoch: 40 | train_loss: 0.4820 | train_acc: 0.0603 | test_loss: 1.2094 | test_acc: 0.4545\n"
     ]
    },
    {
     "name": "stderr",
     "output_type": "stream",
     "text": [
      " 82%|████████▏ | 41/50 [00:26<00:05,  1.55it/s]"
     ]
    },
    {
     "name": "stdout",
     "output_type": "stream",
     "text": [
      "Epoch: 41 | train_loss: 0.4159 | train_acc: 0.0520 | test_loss: 1.1384 | test_acc: 0.4848\n"
     ]
    },
    {
     "name": "stderr",
     "output_type": "stream",
     "text": [
      " 84%|████████▍ | 42/50 [00:27<00:05,  1.57it/s]"
     ]
    },
    {
     "name": "stdout",
     "output_type": "stream",
     "text": [
      "Epoch: 42 | train_loss: 0.4411 | train_acc: 0.0551 | test_loss: 1.0973 | test_acc: 0.4848\n"
     ]
    },
    {
     "name": "stderr",
     "output_type": "stream",
     "text": [
      " 86%|████████▌ | 43/50 [00:28<00:04,  1.56it/s]"
     ]
    },
    {
     "name": "stdout",
     "output_type": "stream",
     "text": [
      "Epoch: 43 | train_loss: 0.5204 | train_acc: 0.0651 | test_loss: 1.4734 | test_acc: 0.3210\n"
     ]
    },
    {
     "name": "stderr",
     "output_type": "stream",
     "text": [
      " 88%|████████▊ | 44/50 [00:28<00:03,  1.57it/s]"
     ]
    },
    {
     "name": "stdout",
     "output_type": "stream",
     "text": [
      "Epoch: 44 | train_loss: 0.5416 | train_acc: 0.0677 | test_loss: 1.0202 | test_acc: 0.5549\n"
     ]
    },
    {
     "name": "stderr",
     "output_type": "stream",
     "text": [
      " 90%|█████████ | 45/50 [00:29<00:03,  1.56it/s]"
     ]
    },
    {
     "name": "stdout",
     "output_type": "stream",
     "text": [
      "Epoch: 45 | train_loss: 0.5265 | train_acc: 0.0658 | test_loss: 1.2551 | test_acc: 0.3617\n"
     ]
    },
    {
     "name": "stderr",
     "output_type": "stream",
     "text": [
      " 92%|█████████▏| 46/50 [00:29<00:02,  1.56it/s]"
     ]
    },
    {
     "name": "stdout",
     "output_type": "stream",
     "text": [
      "Epoch: 46 | train_loss: 0.6229 | train_acc: 0.0779 | test_loss: 1.0641 | test_acc: 0.5038\n"
     ]
    },
    {
     "name": "stderr",
     "output_type": "stream",
     "text": [
      " 94%|█████████▍| 47/50 [00:30<00:01,  1.52it/s]"
     ]
    },
    {
     "name": "stdout",
     "output_type": "stream",
     "text": [
      "Epoch: 47 | train_loss: 0.4336 | train_acc: 0.0542 | test_loss: 1.2504 | test_acc: 0.4034\n"
     ]
    },
    {
     "name": "stderr",
     "output_type": "stream",
     "text": [
      " 96%|█████████▌| 48/50 [00:31<00:01,  1.49it/s]"
     ]
    },
    {
     "name": "stdout",
     "output_type": "stream",
     "text": [
      "Epoch: 48 | train_loss: 0.5337 | train_acc: 0.0667 | test_loss: 1.1385 | test_acc: 0.5663\n"
     ]
    },
    {
     "name": "stderr",
     "output_type": "stream",
     "text": [
      " 98%|█████████▊| 49/50 [00:32<00:00,  1.46it/s]"
     ]
    },
    {
     "name": "stdout",
     "output_type": "stream",
     "text": [
      "Epoch: 49 | train_loss: 0.4802 | train_acc: 0.0600 | test_loss: 1.1926 | test_acc: 0.4129\n"
     ]
    },
    {
     "name": "stderr",
     "output_type": "stream",
     "text": [
      "100%|██████████| 50/50 [00:32<00:00,  1.52it/s]"
     ]
    },
    {
     "name": "stdout",
     "output_type": "stream",
     "text": [
      "Epoch: 50 | train_loss: 0.4771 | train_acc: 0.0596 | test_loss: 1.2066 | test_acc: 0.4337\n",
      "Total training time: 32.817 seconds\n"
     ]
    },
    {
     "name": "stderr",
     "output_type": "stream",
     "text": [
      "\n"
     ]
    },
    {
     "data": {
      "image/png": "[encoded data removed]",
      "text/plain": [
       "<Figure size 1500x700 with 2 Axes>"
      ]
     },
     "metadata": {},
     "output_type": "display_data"
    }
   ],
   "source": [
    "model1=TinnyVGGNorm2D(3,len(data1.train_data_custom.classes),5)\n",
    "\n",
    "model1_optimizer=torch.optim.Adam(params=model1.parameters(),lr=0.001)\n",
    "model1_loss_fn=nn.CrossEntropyLoss()\n",
    "\n",
    "start_time=timer()\n",
    "model1_results=Totrain(model1,data=data1,epochs=50,optimizer=model1_optimizer,loss_fn=model1_loss_fn)\n",
    "\n",
    "end_time=timer()\n",
    "print(f\"Total training time: {end_time-start_time:.3f} seconds\")\n",
    "plot_loss_curves(model1_results)"
   ]
  },
  {
   "cell_type": "markdown",
   "metadata": {},
   "source": [
    "Testing usage of BlockDrop on TinnyVGG with InstanceNorm2d regularization \n",
    "BlockDrop class "
   ]
  },
  {
   "cell_type": "code",
   "execution_count": 10,
   "metadata": {},
   "outputs": [],
   "source": [
    "\n",
    "class BlockDrop(nn.Module):\n",
    "    def __init__(self, block, p=0.5):\n",
    "        super(BlockDrop, self).__init__()\n",
    "        self.block = block\n",
    "        self.p = p\n",
    "\n",
    "    def forward(self, x):\n",
    "        if self.training:\n",
    "            return self.block(x) if torch.rand(1) > self.p else x\n",
    "        return self.block(x)\n",
    "\n",
    "class TinnyVGGBlockDrop(nn.Module):\n",
    "    def __init__(self,in_shape:int,out_shape:int,hidden_units:int) -> None:\n",
    "        super().__init__()\n",
    "\n",
    "        self.conv_block1=BlockDrop(nn.Sequential(\n",
    "            nn.Conv2d(in_channels=in_shape,\n",
    "                      out_channels=hidden_units,\n",
    "                      kernel_size=3,\n",
    "                      stride=1,\n",
    "                      padding=1),\n",
    "            nn.InstanceNorm2d(hidden_units),\n",
    "            nn.ReLU(),\n",
    "            nn.Conv2d(\n",
    "                in_channels=hidden_units,\n",
    "                out_channels=hidden_units,\n",
    "                kernel_size=3,\n",
    "                stride=1,\n",
    "                padding=1\n",
    "            ),\n",
    "            nn.InstanceNorm2d(hidden_units),\n",
    "            nn.ReLU(),\n",
    "            nn.MaxPool2d(kernel_size=2,stride=2)\n",
    "        ))\n",
    "        self.conv_block_2 = BlockDrop(nn.Sequential(\n",
    "            nn.Conv2d(hidden_units, hidden_units, kernel_size=3, padding=1),\n",
    "            nn.InstanceNorm2d(hidden_units),\n",
    "            nn.ReLU(),\n",
    "            nn.Conv2d(hidden_units, hidden_units, kernel_size=3, padding=1),\n",
    "            nn.InstanceNorm2d(hidden_units),\n",
    "            nn.ReLU(),\n",
    "            nn.MaxPool2d(2)\n",
    "        ))\n",
    "        self.classifier=nn.Sequential(\n",
    "            nn.Flatten(),\n",
    "            nn.Linear(in_features=hidden_units*16*16,out_features=out_shape)\n",
    "        )\n",
    "        print(self.state_dict)\n",
    "    def forward(self,x):\n",
    "        return(self.classifier(self.conv_block_2(self.conv_block1(x))))\n",
    "    \n",
    "    \n",
    "   \n"
   ]
  },
  {
   "cell_type": "code",
   "execution_count": 14,
   "metadata": {},
   "outputs": [
    {
     "data": {
      "text/plain": [
       "<matplotlib.image.AxesImage at 0x24f37b0f6d0>"
      ]
     },
     "execution_count": 14,
     "metadata": {},
     "output_type": "execute_result"
    },
    {
     "data": {
      "image/png": "[encoded data removed]",
      "text/plain": [
       "<Figure size 640x480 with 1 Axes>"
      ]
     },
     "metadata": {},
     "output_type": "display_data"
    }
   ],
   "source": [
    "import torchvision\n",
    "custom_img_path=\"C:\\\\Users\\\\Jakub Machura\\\\source\\\\repos\\\\UnderstandingDeepLearning\\\\data\\\\04-pizza-dad.jpeg\"\n",
    "custom_img_unit8=torchvision.io.read_image(str(custom_img_path))\n",
    "\n",
    "# torch.Size([3, 4032, 3024])\n",
    "custom_img_unit8.shape\n",
    "# torch.uint8\n",
    "custom_img_unit8.dtype\n",
    "\n",
    "custom_image=custom_img_unit8=torchvision.io.read_image(str(custom_img_path)).type(torch.float32)\n",
    "# Divide the image pixel values by 255 to get them between [0, 1]\n",
    "custom_image = custom_image / 255. \n",
    "# torch.float32\n",
    "custom_image.dtype\n",
    "\n",
    "\n",
    "plt.imshow(custom_image.permute(1,2,0)) # need to permute image dimensions from CHW -> HWC otherwise matplotlib will error\n",
    "\n",
    "custom_img_transform=transforms.Compose([\n",
    "    transforms.Resize((64,64)),\n",
    "])\n",
    "\n",
    "custom_image_transformed=custom_img_transform(custom_image) \n",
    "\n",
    "custom_image_transformed.shape\n",
    "\n",
    "model1.eval()\n",
    "with torch.inference_mode():\n",
    "    custom_image_transformed_with_batch_size=custom_image_transformed.unsqueeze(dim=0)\n",
    "\n",
    "    custom_img_pred=model1(custom_image_transformed_with_batch_size)\n",
    "  \n",
    "plt.imshow(custom_image_transformed.permute(1,2,0))"
   ]
  },
  {
   "cell_type": "code",
   "execution_count": null,
   "metadata": {},
   "outputs": [],
   "source": []
  }
 ],
 "metadata": {
  "kernelspec": {
   "display_name": "Python 3",
   "language": "python",
   "name": "python3"
  },
  "language_info": {
   "codemirror_mode": {
    "name": "ipython",
    "version": 3
   },
   "file_extension": ".py",
   "mimetype": "text/x-python",
   "name": "python",
   "nbconvert_exporter": "python",
   "pygments_lexer": "ipython3",
   "version": "3.11.4"
  }
 },
 "nbformat": 4,
 "nbformat_minor": 2
}
