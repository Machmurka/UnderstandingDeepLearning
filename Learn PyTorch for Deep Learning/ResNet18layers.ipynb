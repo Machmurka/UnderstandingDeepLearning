{
 "cells": [
  {
   "cell_type": "code",
   "execution_count": 66,
   "metadata": {},
   "outputs": [
    {
     "data": {
      "text/plain": [
       "<torch.autograd.anomaly_mode.set_detect_anomaly at 0x16e7e764150>"
      ]
     },
     "execution_count": 66,
     "metadata": {},
     "output_type": "execute_result"
    }
   ],
   "source": [
    "import torch \n",
    "import torch.nn as nn\n",
    "from torch.utils.data import  DataLoader\n",
    "from torchvision import datasets, transforms\n",
    "from torch.utils.data import Dataset\n",
    "import os\n",
    "from typing import Tuple, Dict, List\n",
    "from PIL import Image\n",
    "from pathlib import Path\n",
    "from tqdm.auto import tqdm\n",
    "# https://medium.com/@karuneshu21/resnet-paper-walkthrough-b7f3bdba55f0\n",
    "# https://arxiv.org/pdf/1512.03385.pdf\n",
    "# https://medium.com/@karuneshu21/how-to-resnet-in-pytorch-9acb01f36cf5\n",
    "torch.autograd.set_detect_anomaly(True)"
   ]
  },
  {
   "cell_type": "code",
   "execution_count": 112,
   "metadata": {},
   "outputs": [],
   "source": [
    "class Data():\n",
    "    def __init__(self) -> None:\n",
    "        from torchvision.transforms import ToTensor\n",
    "        import numpy as np\n",
    "        from torch.utils.data import Subset\n",
    "        self.train_data_full =datasets.Food101(\n",
    "            root='D:\\PytorchData\\data',\n",
    "            split=\"train\",\n",
    "            download=False,\n",
    "            transform=transforms.Compose(\n",
    "                [\n",
    "                    transforms.Resize((224,224)),\n",
    "                    transforms.ToTensor()\n",
    "                ]\n",
    "            )\n",
    "        )\n",
    "        indices = list(range(len(self.train_data_full)))\n",
    "        np.random.shuffle(indices)\n",
    "        split_idx = int(len(indices) * 0.001)\n",
    "        self.train_data = Subset(self.train_data_full, indices[:split_idx])\n",
    "\n",
    "        self.test_data_full=datasets.Food101(\n",
    "            root='D:\\PytorchData\\data',\n",
    "            split=\"test\",\n",
    "            download=False,\n",
    "            transform=transforms.Compose(\n",
    "                [\n",
    "                    transforms.Resize((224,224)),\n",
    "                    transforms.ToTensor()\n",
    "                ]\n",
    "            )\n",
    "        )\n",
    "        \n",
    "        indices = list(range(len(self.test_data_full)))\n",
    "        np.random.shuffle(indices)\n",
    "        split_idx = int(len(indices) * 0.001)\n",
    "        self.test_data = Subset(self.test_data_full, indices[:split_idx])\n",
    "\n",
    "\n",
    "        self.classes=self.train_data_full.classes\n",
    "        self.ToDataloader()\n",
    "    def ToDataloader(self):\n",
    "        BATCH_SIZE=32\n",
    "        self.train_dataloader=DataLoader(self.train_data,batch_size=BATCH_SIZE,shuffle=True)\n",
    "        self.test_dataloader=DataLoader(self.test_data,batch_size=BATCH_SIZE,shuffle=False)\n",
    "        "
   ]
  },
  {
   "cell_type": "code",
   "execution_count": 113,
   "metadata": {},
   "outputs": [],
   "source": [
    "def train_step(model,optimizer,loss_fn,data:Data):\n",
    "    \n",
    "    model.train()\n",
    "    train_loss,train_acc=0,0\n",
    "\n",
    "    for batch, (X,y) in enumerate(data.train_dataloader):\n",
    "        y_logits=model(X)\n",
    "\n",
    "        loss=loss_fn(y_logits,y)\n",
    "        train_loss+=loss.item()\n",
    "\n",
    "\n",
    "        optimizer.zero_grad()\n",
    "\n",
    "        loss.backward()\n",
    "\n",
    "        optimizer.step()\n",
    "        \n",
    "        y_pred_class=y_logits.argmax(dim=1)\n",
    "        train_acc+=(y_pred_class==y).sum().item()/len(y_logits)\n",
    "\n",
    "    train_loss=train_loss/len(data.train_dataloader)\n",
    "    train_acc=train_acc/len(data.train_dataloader)\n",
    "    return train_loss,train_acc\n",
    "\n",
    "def test_step(model,loss_fn,data:Data):\n",
    "    model.eval()\n",
    "    test_loss,test_acc=0,0\n",
    "\n",
    "    with torch.inference_mode():\n",
    "        for batch, (X,y) in enumerate(data.test_dataloader):\n",
    "            y_logits=model(X)\n",
    "            \n",
    "            loss=loss_fn(y_logits,y)\n",
    "            test_loss+=loss.item()\n",
    "\n",
    "            y_pred_class=y_logits.argmax(dim=1)\n",
    "            test_acc+=(y_pred_class==y).sum().item()/len(y_logits)\n",
    "\n",
    "    test_loss=test_loss/len(data.test_dataloader)\n",
    "    test_acc=test_acc/len(data.test_dataloader)\n",
    "\n",
    "    return test_loss,test_acc\n",
    "\n",
    "def Totrain(model,data:Data,optimizer,loss_fn,epochs:int):\n",
    "    results={\"train_loss\":[],\n",
    "             \"train_acc\" :[],\n",
    "             \"test_loss\":[],\n",
    "             \"test_acc\": []\n",
    "             }\n",
    "    \n",
    "    for epoch in tqdm(range(epochs)):\n",
    "        train_loss,train_acc=train_step(model,optimizer,loss_fn,data)\n",
    "        test_loss,test_acc=test_step(model,loss_fn,data)\n",
    "\n",
    "                \n",
    "        print(\n",
    "            f\"Epoch: {epoch+1} | \"\n",
    "            f\"train_loss: {train_loss:.4f} | \"\n",
    "            f\"train_acc: {train_acc:.4f} | \"\n",
    "            f\"test_loss: {test_loss:.4f} | \"\n",
    "            f\"test_acc: {test_acc:.4f}\"\n",
    "        )\n",
    "\n",
    "        # 5. Update results dictionary\n",
    "        results[\"train_loss\"].append(train_loss)\n",
    "        results[\"train_acc\"].append(train_acc)\n",
    "        results[\"test_loss\"].append(test_loss)\n",
    "        results[\"test_acc\"].append(test_acc)\n",
    "    \n",
    "    return results"
   ]
  },
  {
   "cell_type": "code",
   "execution_count": 123,
   "metadata": {},
   "outputs": [],
   "source": [
    "def plot_loss_curves(results: Dict[str, List[float]]):\n",
    "    import matplotlib.pyplot as plt\n",
    "    \"\"\"Plots training curves of a results dictionary.\n",
    "\n",
    "    Args:\n",
    "        results (dict): dictionary containing list of values, e.g.\n",
    "            {\"train_loss\": [...],\n",
    "             \"train_acc\": [...],\n",
    "             \"test_loss\": [...],\n",
    "             \"test_acc\": [...]}\n",
    "    \"\"\"\n",
    "    \n",
    "    # Get the loss values of the results dictionary (training and test)\n",
    "    loss = results['train_loss']\n",
    "    test_loss = results['test_loss']\n",
    "\n",
    "    # Get the accuracy values of the results dictionary (training and test)\n",
    "    accuracy = results['train_acc']\n",
    "    test_accuracy = results['test_acc']\n",
    "\n",
    "    # Figure out how many epochs there were\n",
    "    epochs = range(len(results['train_loss']))\n",
    "\n",
    "    # Setup a plot \n",
    "    plt.figure(figsize=(15, 7))\n",
    "\n",
    "    # Plot loss\n",
    "    plt.subplot(1, 2, 1)\n",
    "    plt.plot(epochs, loss, label='train_loss')\n",
    "    plt.plot(epochs, test_loss, label='test_loss')\n",
    "    plt.ylim([0,1775821])\n",
    "    plt.title('Loss')\n",
    "    plt.xlabel('Epochs')\n",
    "    plt.legend()\n",
    "    # plt.show()\n",
    "\n",
    "    # Plot accuracy\n",
    "    plt.subplot(1, 2, 2)\n",
    "    plt.plot(epochs, accuracy, label='train_accuracy')\n",
    "    plt.plot(epochs, test_accuracy, label='test_accuracy')\n",
    "    plt.title('Accuracy')\n",
    "    plt.xlabel('Epochs')\n",
    "    plt.legend()\n",
    "    plt.show()"
   ]
  },
  {
   "cell_type": "code",
   "execution_count": 124,
   "metadata": {},
   "outputs": [],
   "source": [
    "# data=CustomDataTest()\n",
    "\n",
    "# net=ResNet(3,len(data.train_data.classes))\n",
    "# net_optimizer=torch.optim.SGD(net.parameters(),lr=0.1)\n",
    "# net_loss_fn=nn.CrossEntropyLoss()\n",
    "# res=Totrain(net,data,net_optimizer,net_loss_fn,2)\n",
    "\n",
    "\n",
    "# x=torch.randn(32,3,224,224)\n",
    "# print(f\"out shape {y.shape}\")\n",
    "\n"
   ]
  },
  {
   "cell_type": "markdown",
   "metadata": {},
   "source": [
    "RuntimeError: one of the variables needed for gradient computation has been modified by an inplace operation: [torch.FloatTensor [32, 512, 7, 7]], which is output 0 of ReluBackward0, is at version 1; expected version 0 instead. Hint: the backtrace further above shows the operation that failed to compute its gradient. The variable in question was changed in there or anywhere later. Good luck!\n"
   ]
  },
  {
   "cell_type": "code",
   "execution_count": 125,
   "metadata": {},
   "outputs": [],
   "source": [
    "class SimpleResNetblock(nn.Module):\n",
    "    def __init__(self,in_channels,out_channels,stride=1,identity_downsample=None) -> None:\n",
    "        super(SimpleResNetblock,self).__init__()\n",
    "\n",
    "        self.conv1=nn.Conv2d(in_channels=in_channels,out_channels=out_channels,kernel_size=3,padding=1,stride=stride)\n",
    "        self.bn1=nn.BatchNorm2d(out_channels)\n",
    "       \n",
    "        self.conv2=nn.Conv2d(in_channels=out_channels,out_channels=out_channels,kernel_size=3,padding=1,stride=1)\n",
    "        self.bn2=nn.BatchNorm2d(out_channels)\n",
    "       \n",
    "        self.relu=nn.ReLU()\n",
    "\n",
    "        self.identity_downsample=identity_downsample\n",
    "    \n",
    "    def forward(self,x):\n",
    "        identity=x\n",
    "        # print(f\"identity shape x{identity.shape}\")\n",
    "        \n",
    "        x=self.conv1(x)\n",
    "        x=self.bn1(x)\n",
    "        x=self.relu(x)\n",
    "\n",
    "        x=self.conv2(x)\n",
    "        x=self.bn2(x)\n",
    "\n",
    "        if self.identity_downsample != None:\n",
    "            identity=self.identity_downsample(identity)\n",
    "            # print(f\"identity shape after {identity.shape}\")\n",
    "            # print(f\"x shape {x.shape}\")\n",
    "\n",
    "        x+=identity\n",
    "        x=self.relu(x)\n",
    "        # print(f\"x shape {x.shape}\")\n",
    "\n",
    "        return x\n"
   ]
  },
  {
   "cell_type": "code",
   "execution_count": 126,
   "metadata": {},
   "outputs": [],
   "source": [
    "class ResNet18(nn.Module):\n",
    "    def __init__(self,block:SimpleResNetblock,img_channels,num_classes,block_num:list) -> None:\n",
    "        super(ResNet18,self).__init__()\n",
    "        \n",
    "        self.in_channels=64\n",
    "\n",
    "        self.conv1=nn.Conv2d(img_channels,64,kernel_size=7,stride=2,padding=3)\n",
    "        self.bn1=nn.BatchNorm2d(64)\n",
    "        self.relu=nn.ReLU()\n",
    "        self.maxpool=nn.MaxPool2d(kernel_size=3,stride=2,padding=1)\n",
    "\n",
    "        self.layer2=self._make_layer(block,block_num[0],64,1)\n",
    "        self.layer3=self._make_layer(block,block_num[1],128,2)\n",
    "        self.layer4=self._make_layer(block,block_num[2],256,2)\n",
    "        self.layer5=self._make_layer(block,block_num[3],512,2)\n",
    "\n",
    "        \n",
    "\n",
    "        self.avg=nn.AvgPool2d((1,1))\n",
    "        self.fc=nn.Linear(512*7*7,num_classes)\n",
    "\n",
    "\n",
    "    def forward(self,x):\n",
    "        x=self.conv1(x)\n",
    "        x=self.bn1(x)\n",
    "        x=self.relu(x)\n",
    "        x=self.maxpool(x)\n",
    "\n",
    "        x=self.layer2(x)\n",
    "        x=self.layer3(x)\n",
    "        x=self.layer4(x)\n",
    "        x=self.layer5(x)\n",
    "\n",
    "        \n",
    "        x=self.avg(x)\n",
    "        # print(f\"shape after avg {x.shape}\")\n",
    "        x=x.reshape(x.shape[0],-1)\n",
    "        # print(f\"shape after reshape {x.shape}\")\n",
    "        x=self.fc(x)\n",
    "        # print(f\"output shape {x.shape}\")\n",
    "        \n",
    "        return x\n",
    "    \n",
    "    def _make_layer(self,block,num_blocks,out_channels,stride):\n",
    "        identity_downsample=None\n",
    "        layers=[]\n",
    "        if stride!=1:\n",
    "            identity_downsample=nn.Sequential(\n",
    "                nn.Conv2d(self.in_channels,out_channels,1,stride,padding=0),\n",
    "                nn.BatchNorm2d(out_channels)\n",
    "            )\n",
    "        layers.append(block(self.in_channels,out_channels=out_channels,stride=stride,identity_downsample=identity_downsample))\n",
    "        self.in_channels=out_channels\n",
    "\n",
    "        for i in range(num_blocks-1):\n",
    "            layers.append(block(self.in_channels,out_channels=out_channels))\n",
    "\n",
    "        return nn.Sequential(*layers)"
   ]
  },
  {
   "cell_type": "code",
   "execution_count": 127,
   "metadata": {},
   "outputs": [
    {
     "name": "stdout",
     "output_type": "stream",
     "text": [
      "len train_dataloader 96\n",
      "len test_dataloader 32\n"
     ]
    },
    {
     "name": "stderr",
     "output_type": "stream",
     "text": [
      " 25%|██▌       | 1/4 [00:07<00:22,  7.37s/it]"
     ]
    },
    {
     "name": "stdout",
     "output_type": "stream",
     "text": [
      "Epoch: 1 | train_loss: 106.1904 | train_acc: 0.0104 | test_loss: 72097756998667337728.0000 | test_acc: 0.0000\n"
     ]
    },
    {
     "name": "stderr",
     "output_type": "stream",
     "text": [
      " 50%|█████     | 2/4 [00:14<00:14,  7.05s/it]"
     ]
    },
    {
     "name": "stdout",
     "output_type": "stream",
     "text": [
      "Epoch: 2 | train_loss: 208.4697 | train_acc: 0.0104 | test_loss: 272849504.0000 | test_acc: 0.0000\n"
     ]
    },
    {
     "name": "stderr",
     "output_type": "stream",
     "text": [
      " 75%|███████▌  | 3/4 [00:21<00:06,  6.94s/it]"
     ]
    },
    {
     "name": "stdout",
     "output_type": "stream",
     "text": [
      "Epoch: 3 | train_loss: 32.8882 | train_acc: 0.0417 | test_loss: 2432330.5000 | test_acc: 0.0400\n"
     ]
    },
    {
     "name": "stderr",
     "output_type": "stream",
     "text": [
      "100%|██████████| 4/4 [00:27<00:00,  6.92s/it]"
     ]
    },
    {
     "name": "stdout",
     "output_type": "stream",
     "text": [
      "Epoch: 4 | train_loss: 25.0421 | train_acc: 0.0521 | test_loss: 61960.6719 | test_acc: 0.0400\n"
     ]
    },
    {
     "name": "stderr",
     "output_type": "stream",
     "text": [
      "\n"
     ]
    },
    {
     "data": {
      "image/png": "[encoded data removed]",
      "text/plain": [
       "<Figure size 1500x700 with 2 Axes>"
      ]
     },
     "metadata": {},
     "output_type": "display_data"
    }
   ],
   "source": [
    "data=Data()\n",
    "train_features_batch, train_labels_batch = next(iter(data.train_dataloader))\n",
    "print(f\"len train_dataloader {len(data.train_dataloader)*32}\")\n",
    "print(f\"len test_dataloader {len(data.test_dataloader)*32}\")\n",
    "\n",
    "\n",
    "\n",
    "net30=ResNet18(SimpleResNetblock,3,len(data.classes),[3,4,6,3])\n",
    "# x=torch.randn(2,3,224,224)\n",
    "# print(f\"in shape {x.shape}\")\n",
    "# y=net30(x)\n",
    "# print(f\"out shape {y.shape}\")\n",
    "\n",
    "\n",
    "net_optimizer=torch.optim.SGD(net30.parameters(),lr=0.1)\n",
    "net_loss_fn=nn.CrossEntropyLoss()\n",
    "resnet30_results=Totrain(net30,data,net_optimizer,net_loss_fn,5)\n",
    "\n",
    "plot_loss_curves(resnet30_results)\n",
    "\n",
    "\n",
    "\n"
   ]
  },
  {
   "cell_type": "code",
   "execution_count": 128,
   "metadata": {},
   "outputs": [],
   "source": [
    "class ResNetblock(nn.Module):\n",
    "    def __init__(self,in_channels,out_channels,stride=1,identity_downsample=None) -> None:\n",
    "        super(ResNetblock,self).__init__()\n",
    "\n",
    "        self.expansion=4\n",
    "\n",
    "        self.conv1=nn.Conv2d(in_channels=in_channels,out_channels=out_channels,kernel_size=3,padding=1,stride=stride)\n",
    "        self.bn1=nn.BatchNorm2d(out_channels)\n",
    "       \n",
    "        self.conv2=nn.Conv2d(in_channels=out_channels,out_channels=out_channels,kernel_size=3,padding=1,stride=1)\n",
    "        self.bn2=nn.BatchNorm2d(out_channels)\n",
    "       \n",
    "        self.conv3=nn.Conv2d(in_channels=out_channels,out_channels=out_channels*self.expansion,kernel_size=3,padding=1,stride=1)\n",
    "        self.bn3=nn.BatchNorm2d(out_channels*self.expansion)\n",
    "        \n",
    "        \n",
    "        self.relu=nn.ReLU()\n",
    "\n",
    "        self.identity_downsample=identity_downsample\n",
    "    \n",
    "    def forward(self,x):\n",
    "        identity=x\n",
    "        # print(f\"identity shape x{identity.shape}\")\n",
    "        \n",
    "        x=self.conv1(x)\n",
    "        x=self.bn1(x)\n",
    "        x=self.relu(x)\n",
    "        # print(f\"after conv1 shape {x.shape}\")\n",
    "\n",
    "        x=self.conv2(x)\n",
    "        x=self.bn2(x)\n",
    "        # print(f\"after conv2 shape {x.shape}\")\n",
    "\n",
    "        # print(f\"before conv3 shape {x.shape}\")\n",
    "        x=self.conv3(x)\n",
    "        x=self.bn3(x)\n",
    "        # print(f\"after conv3 shape {x.shape}\")\n",
    "        \n",
    "        if self.identity_downsample != None:\n",
    "            identity=self.identity_downsample(identity)\n",
    "            # print(f\"identity shape after downsample {identity.shape}\")\n",
    "\n",
    "        x+=identity\n",
    "        x=self.relu(x)\n",
    "        # print(f\"x shape {x.shape}\")\n",
    "\n",
    "        return x\n"
   ]
  },
  {
   "cell_type": "code",
   "execution_count": 129,
   "metadata": {},
   "outputs": [],
   "source": [
    "class ResNet50(nn.Module):\n",
    "    def __init__(self,block:ResNetblock,img_channels,num_classes,block_num:list) -> None:\n",
    "        super(ResNet50,self).__init__()\n",
    "        \n",
    "        self.in_channels=64\n",
    "\n",
    "        self.conv1=nn.Conv2d(img_channels,64,kernel_size=7,stride=2,padding=3)\n",
    "        self.bn1=nn.BatchNorm2d(64)\n",
    "        self.relu=nn.ReLU()\n",
    "        self.maxpool=nn.MaxPool2d(kernel_size=3,stride=2,padding=1)\n",
    "\n",
    "        self.layer2=self._make_layer(block,block_num[0],64,1)\n",
    "        self.layer3=self._make_layer(block,block_num[1],128,2)\n",
    "        self.layer4=self._make_layer(block,block_num[2],256,2)\n",
    "        self.layer5=self._make_layer(block,block_num[3],512,2)\n",
    "\n",
    "        self.avg=nn.AvgPool2d((1,1))\n",
    "        self.fc=nn.Linear(2048*7*7,num_classes)\n",
    "\n",
    "\n",
    "    def forward(self,x):\n",
    "        x=self.conv1(x)\n",
    "        x=self.bn1(x)\n",
    "        x=self.relu(x)\n",
    "        x=self.maxpool(x)\n",
    "        \n",
    "        x=self.layer2(x)\n",
    "        x=self.layer3(x)\n",
    "        x=self.layer4(x)\n",
    "        x=self.layer5(x)\n",
    "\n",
    "\n",
    "        x=self.avg(x)\n",
    "        # print(f\"shape after avg {x.shape}\")\n",
    "        x=x.reshape(x.shape[0],-1)\n",
    "        # print(f\"shape after reshape {x.shape}\")\n",
    "        x=self.fc(x)\n",
    "        # print(f\"output shape {x.shape}\")\n",
    "        \n",
    "        return x\n",
    "    \n",
    "    def _make_layer(self,block:ResNetblock,num_blocks,out_channels,stride):\n",
    "        identity_downsample=None\n",
    "        layers=[]\n",
    "\n",
    "        if stride!=1 or self.in_channels!=out_channels*4:\n",
    "            identity_downsample=nn.Sequential(\n",
    "                nn.Conv2d(self.in_channels,out_channels*4,1,stride,padding=0),\n",
    "                nn.BatchNorm2d(out_channels*4)\n",
    "            )\n",
    "            # print(\"stride test\")\n",
    "        \n",
    "        layers.append(block(self.in_channels,out_channels=out_channels,stride=stride,identity_downsample=identity_downsample))\n",
    "        self.in_channels=out_channels*4\n",
    "\n",
    "        for i in range(num_blocks-1):\n",
    "            layers.append(block(self.in_channels,out_channels=out_channels))\n",
    "\n",
    "        return nn.Sequential(*layers)\n",
    "    \n",
    "    "
   ]
  },
  {
   "cell_type": "code",
   "execution_count": 131,
   "metadata": {},
   "outputs": [
    {
     "name": "stdout",
     "output_type": "stream",
     "text": [
      "len train_dataloader 96\n",
      "len test_dataloader 32\n"
     ]
    },
    {
     "name": "stderr",
     "output_type": "stream",
     "text": [
      " 10%|█         | 1/10 [00:23<03:33, 23.70s/it]"
     ]
    },
    {
     "name": "stdout",
     "output_type": "stream",
     "text": [
      "Epoch: 1 | train_loss: 408.4439 | train_acc: 0.0104 | test_loss: 785015905408895728681131966464.0000 | test_acc: 0.0000\n"
     ]
    },
    {
     "name": "stderr",
     "output_type": "stream",
     "text": [
      " 20%|██        | 2/10 [00:48<03:15, 24.38s/it]"
     ]
    },
    {
     "name": "stdout",
     "output_type": "stream",
     "text": [
      "Epoch: 2 | train_loss: 1136.0997 | train_acc: 0.0000 | test_loss: 195614199596974080.0000 | test_acc: 0.0000\n"
     ]
    },
    {
     "name": "stderr",
     "output_type": "stream",
     "text": [
      " 30%|███       | 3/10 [01:11<02:44, 23.56s/it]"
     ]
    },
    {
     "name": "stdout",
     "output_type": "stream",
     "text": [
      "Epoch: 3 | train_loss: 202.1578 | train_acc: 0.0521 | test_loss: 14390734848.0000 | test_acc: 0.0000\n"
     ]
    },
    {
     "name": "stderr",
     "output_type": "stream",
     "text": [
      " 40%|████      | 4/10 [01:34<02:20, 23.35s/it]"
     ]
    },
    {
     "name": "stdout",
     "output_type": "stream",
     "text": [
      "Epoch: 4 | train_loss: 64.7746 | train_acc: 0.0616 | test_loss: 2800985.5000 | test_acc: 0.0000\n"
     ]
    },
    {
     "name": "stderr",
     "output_type": "stream",
     "text": [
      " 50%|█████     | 5/10 [01:56<01:55, 23.02s/it]"
     ]
    },
    {
     "name": "stdout",
     "output_type": "stream",
     "text": [
      "Epoch: 5 | train_loss: 52.0183 | train_acc: 0.0521 | test_loss: 1966655.8750 | test_acc: 0.0000\n"
     ]
    },
    {
     "name": "stderr",
     "output_type": "stream",
     "text": [
      " 60%|██████    | 6/10 [02:20<01:32, 23.19s/it]"
     ]
    },
    {
     "name": "stdout",
     "output_type": "stream",
     "text": [
      "Epoch: 6 | train_loss: 30.0974 | train_acc: 0.0521 | test_loss: 108616.0000 | test_acc: 0.0000\n"
     ]
    },
    {
     "name": "stderr",
     "output_type": "stream",
     "text": [
      " 70%|███████   | 7/10 [02:41<01:08, 22.67s/it]"
     ]
    },
    {
     "name": "stdout",
     "output_type": "stream",
     "text": [
      "Epoch: 7 | train_loss: 15.1892 | train_acc: 0.0312 | test_loss: 69968.2891 | test_acc: 0.0000\n"
     ]
    },
    {
     "name": "stderr",
     "output_type": "stream",
     "text": [
      " 80%|████████  | 8/10 [03:02<00:44, 22.16s/it]"
     ]
    },
    {
     "name": "stdout",
     "output_type": "stream",
     "text": [
      "Epoch: 8 | train_loss: 6.6717 | train_acc: 0.1231 | test_loss: 14850.8359 | test_acc: 0.0000\n"
     ]
    },
    {
     "name": "stderr",
     "output_type": "stream",
     "text": [
      " 90%|█████████ | 9/10 [03:26<00:22, 22.53s/it]"
     ]
    },
    {
     "name": "stdout",
     "output_type": "stream",
     "text": [
      "Epoch: 9 | train_loss: 16.9198 | train_acc: 0.1648 | test_loss: 2398.1541 | test_acc: 0.0000\n"
     ]
    },
    {
     "name": "stderr",
     "output_type": "stream",
     "text": [
      "100%|██████████| 10/10 [03:49<00:00, 22.92s/it]"
     ]
    },
    {
     "name": "stdout",
     "output_type": "stream",
     "text": [
      "Epoch: 10 | train_loss: 19.4959 | train_acc: 0.1042 | test_loss: 52.7650 | test_acc: 0.0000\n"
     ]
    },
    {
     "name": "stderr",
     "output_type": "stream",
     "text": [
      "\n"
     ]
    },
    {
     "data": {
      "image/png": "[encoded data removed]",
      "text/plain": [
       "<Figure size 1500x700 with 2 Axes>"
      ]
     },
     "metadata": {},
     "output_type": "display_data"
    }
   ],
   "source": [
    "train_features_batch, train_labels_batch = next(iter(data.train_dataloader))\n",
    "print(f\"len train_dataloader {len(data.train_dataloader)*32}\")\n",
    "print(f\"len test_dataloader {len(data.test_dataloader)*32}\")\n",
    "\n",
    "# x=torch.randn(2,3,224,224)\n",
    "# net50=ResNet50(ResNetblock,3,4,[3,4,6,3])\n",
    "\n",
    "net50=ResNet50(ResNetblock,3,len(data.classes),[3,4,6,3])\n",
    "\n",
    "net_optimizer=torch.optim.SGD(net50.parameters(),lr=0.1)\n",
    "net_loss_fn=nn.CrossEntropyLoss()\n",
    "resnet50_results=Totrain(net50,data,net_optimizer,net_loss_fn,10)\n",
    "\n",
    "plot_loss_curves(resnet50_results)\n",
    "\n"
   ]
  }
 ],
 "metadata": {
  "kernelspec": {
   "display_name": "Python 3",
   "language": "python",
   "name": "python3"
  },
  "language_info": {
   "codemirror_mode": {
    "name": "ipython",
    "version": 3
   },
   "file_extension": ".py",
   "mimetype": "text/x-python",
   "name": "python",
   "nbconvert_exporter": "python",
   "pygments_lexer": "ipython3",
   "version": "3.11.4"
  }
 },
 "nbformat": 4,
 "nbformat_minor": 2
}
