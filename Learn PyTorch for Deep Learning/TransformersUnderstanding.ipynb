{
 "cells": [
  {
   "cell_type": "code",
   "execution_count": 47,
   "metadata": {},
   "outputs": [],
   "source": [
    "import torch\n",
    "import torch.nn.functional as F\n",
    "import torch.nn as nn\n",
    "\n",
    "\n"
   ]
  },
  {
   "cell_type": "code",
   "execution_count": 45,
   "metadata": {},
   "outputs": [],
   "source": [
    "# We’ll represent the input, a sequence of t vectors of dimension k as a t by k matrix 𝐗.\n",
    "# Including a minibatch dimension b, gives us an input tensor of size (b,t,k).\n",
    "# assume we have some tensor x with size (b, t, k)\n",
    "x=torch.randn((32,3,2))\n",
    "raw_weights = torch.bmm(x, x.transpose(1, 2))\n",
    "\n",
    "# print(f\"Raw weights shape {raw_weights.shape}\\n\")\n",
    "# print(x[:1,])\n",
    "# print(raw_weights[:1,])\n",
    "\n",
    "weights=torch.softmax(raw_weights,dim=2)\n",
    "\n",
    "y = torch.bmm(weights, x)"
   ]
  },
  {
   "cell_type": "code",
   "execution_count": 48,
   "metadata": {},
   "outputs": [],
   "source": [
    "class SelfAttention(nn.Module):\n",
    "    def __init__(self, k, heads=4, mask=False):\n",
    "        super(SelfAttention).__init__()\n",
    "    \n",
    "        assert k % heads == 0\n",
    "    \n",
    "        self.k, self.heads = k, heads\n",
    "        \n",
    "        # These compute the queries, keys and values for all\n",
    "        # heads\n",
    "        self.tokeys    = nn.Linear(k, k, bias=False)\n",
    "        self.toqueries = nn.Linear(k, k, bias=False)\n",
    "        self.tovalues  = nn.Linear(k, k, bias=False)\n",
    "\n",
    "\t    # This will be applied after the multi-head self-attention operation.\n",
    "        self.unifyheads = nn.Linear(k, k)\n",
    "\n",
    "        \n",
    "    def forward(self, x):\n",
    "\n",
    "        b, t, k = x.size()\n",
    "        h = self.heads\n",
    "\n",
    "        queries = self.toqueries(x)\n",
    "        keys    = self.tokeys(x)   \n",
    "        values  = self.tovalues(x)\n",
    "    \ts = k // h\n",
    "\n",
    "\t    keys    = keys.view(b, t, h, s)\n",
    "\t    queries = queries.view(b, t, h, s)\n",
    "    \tvalues  = values.view(b, t, h, s)\n"
   ]
  },
  {
   "cell_type": "code",
   "execution_count": null,
   "metadata": {},
   "outputs": [],
   "source": []
  }
 ],
 "metadata": {
  "kernelspec": {
   "display_name": "Python 3",
   "language": "python",
   "name": "python3"
  },
  "language_info": {
   "codemirror_mode": {
    "name": "ipython",
    "version": 3
   },
   "file_extension": ".py",
   "mimetype": "text/x-python",
   "name": "python",
   "nbconvert_exporter": "python",
   "pygments_lexer": "ipython3",
   "version": "3.11.3"
  }
 },
 "nbformat": 4,
 "nbformat_minor": 2
}
